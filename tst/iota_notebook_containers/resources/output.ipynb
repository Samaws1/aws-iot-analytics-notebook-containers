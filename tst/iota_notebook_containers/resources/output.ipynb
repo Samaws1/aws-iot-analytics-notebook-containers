{
    "cells": [
        {
            "cell_type": "markdown",
            "metadata": {
                
            },
            "source": "# My notebook"
        },
        {
            "cell_type": "code",
            "execution_count": null,
            "metadata": {
                "collapsed": true
            },
            "outputs": [
                
            ],
            "source": "a = 6\n\n# now setting b\n\nb = 'hi'\n\nb = '\u043f\u043e\u043a\u0430' # resetting b"
        },
        {
            "cell_type": "markdown",
            "metadata": {
                
            },
            "source": "## Sub-section"
        },
        {
            "cell_type": "code",
            "execution_count": null,
            "metadata": {
                
            },
            "outputs": [
                
            ],
            "source": "for i in range(1, 5):\n    c = 7\n    \nprint(c)\n\nd = True\n\ne = 2.71828;pi=3.14159\n\nl = [1, 2, 3]\n\no = {'YourField': 0}\n\nprint(a)\nprint(b)\nprint(d)\nprint(e)\nprint(pi)\nprint(l)\nprint(o)\nif True:\n    !printf 2\n%matplotlib inline"
        },
        {
            "cell_type": "code",
            "execution_count": null,
            "metadata": {
                
            },
            "outputs": [
                
            ],
            "source": "%%bash\np=1 #not setting p\necho $p"
        }
    ],
    "metadata": {
        "kernelspec": {
            "display_name": "conda_python3",
            "language": "python",
            "name": "conda_python3"
        },
        "language_info": {
            "codemirror_mode": {
                "name": "ipython",
                "version": 3
            },
            "file_extension": ".py",
            "mimetype": "text/x-python",
            "name": "python",
            "nbconvert_exporter": "python",
            "pygments_lexer": "ipython3",
            "version": "3.6.4"
        }
    },
    "nbformat": 4,
    "nbformat_minor": 2
}