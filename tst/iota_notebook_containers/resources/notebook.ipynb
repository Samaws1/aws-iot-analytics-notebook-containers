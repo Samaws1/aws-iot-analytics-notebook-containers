{
 "cells": [
  {
   "cell_type": "markdown",
   "metadata": {},
   "source": [
    "# My notebook"
   ]
  },
  {
   "cell_type": "code",
   "execution_count": null,
   "metadata": {
    "collapsed": true
   },
   "outputs": [],
   "source": [
    "a = 5\n",
    "\n",
    "# now setting b\n",
    "\n",
    "b = 'hello'\n",
    "\n",
    "b = 'пока' # resetting b"
   ]
  },
  {
   "cell_type": "markdown",
   "metadata": {},
   "source": [
    "## Sub-section"
   ]
  },
  {
   "cell_type": "code",
   "execution_count": null,
   "metadata": {},
   "outputs": [],
   "source": [
    "for i in range(1, 5):\n",
    "    c = a + i\n",
    "    \n",
    "print(c)\n",
    "\n",
    "d = False\n",
    "\n",
    "e = 2.7;pi=3.14\n",
    "\n",
    "l = [3, 'hi'] + ['there']\n",
    "\n",
    "o = {\"MyField\": 10,\n",
    "     \"MyOtherField\": 11}\n",
    "\n",
    "print(a)\n",
    "print(b)\n",
    "print(d)\n",
    "print(e)\n",
    "print(pi)\n",
    "print(l)\n",
    "print(o)\n",
    "if True:\n",
    "    !printf 2\n",
    "%matplotlib inline"
   ]
  },
  {
   "cell_type": "code",
   "execution_count": null,
   "metadata": {},
   "outputs": [],
   "source": [
    "%%bash\n",
    "p=1 #not setting p\n",
    "echo $p"
   ]
  }
 ],
 "metadata": {
  "kernelspec": {
   "display_name": "conda_python3",
   "language": "python",
   "name": "conda_python3"
  },
  "language_info": {
   "codemirror_mode": {
    "name": "ipython",
    "version": 3
   },
   "file_extension": ".py",
   "mimetype": "text/x-python",
   "name": "python",
   "nbconvert_exporter": "python",
   "pygments_lexer": "ipython3",
   "version": "3.6.4"
  }
 },
 "nbformat": 4,
 "nbformat_minor": 2
}
